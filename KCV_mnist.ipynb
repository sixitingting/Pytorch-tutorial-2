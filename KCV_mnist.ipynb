{
  "nbformat": 4,
  "nbformat_minor": 0,
  "metadata": {
    "colab": {
      "name": "KCV_mnist.ipynb",
      "provenance": [],
      "collapsed_sections": []
    },
    "kernelspec": {
      "name": "python3",
      "display_name": "Python 3"
    },
    "language_info": {
      "name": "python"
    },
    "accelerator": "GPU",
    "widgets": {
      "application/vnd.jupyter.widget-state+json": {
        "1b0da219de86448f99f0ff1cb00957ef": {
          "model_module": "@jupyter-widgets/controls",
          "model_name": "HBoxModel",
          "state": {
            "_view_name": "HBoxView",
            "_dom_classes": [],
            "_model_name": "HBoxModel",
            "_view_module": "@jupyter-widgets/controls",
            "_model_module_version": "1.5.0",
            "_view_count": null,
            "_view_module_version": "1.5.0",
            "box_style": "",
            "layout": "IPY_MODEL_c3a67c9f185547219de9c555fad3467d",
            "_model_module": "@jupyter-widgets/controls",
            "children": [
              "IPY_MODEL_2a699560b517473b8233d279dd85c791",
              "IPY_MODEL_547d15c7da7741dfb548c6f33e3fca79"
            ]
          }
        },
        "c3a67c9f185547219de9c555fad3467d": {
          "model_module": "@jupyter-widgets/base",
          "model_name": "LayoutModel",
          "state": {
            "_view_name": "LayoutView",
            "grid_template_rows": null,
            "right": null,
            "justify_content": null,
            "_view_module": "@jupyter-widgets/base",
            "overflow": null,
            "_model_module_version": "1.2.0",
            "_view_count": null,
            "flex_flow": null,
            "width": null,
            "min_width": null,
            "border": null,
            "align_items": null,
            "bottom": null,
            "_model_module": "@jupyter-widgets/base",
            "top": null,
            "grid_column": null,
            "overflow_y": null,
            "overflow_x": null,
            "grid_auto_flow": null,
            "grid_area": null,
            "grid_template_columns": null,
            "flex": null,
            "_model_name": "LayoutModel",
            "justify_items": null,
            "grid_row": null,
            "max_height": null,
            "align_content": null,
            "visibility": null,
            "align_self": null,
            "height": null,
            "min_height": null,
            "padding": null,
            "grid_auto_rows": null,
            "grid_gap": null,
            "max_width": null,
            "order": null,
            "_view_module_version": "1.2.0",
            "grid_template_areas": null,
            "object_position": null,
            "object_fit": null,
            "grid_auto_columns": null,
            "margin": null,
            "display": null,
            "left": null
          }
        },
        "2a699560b517473b8233d279dd85c791": {
          "model_module": "@jupyter-widgets/controls",
          "model_name": "FloatProgressModel",
          "state": {
            "_view_name": "ProgressView",
            "style": "IPY_MODEL_9f49ee86d90e4298961ac7ed628e0e00",
            "_dom_classes": [],
            "description": "",
            "_model_name": "FloatProgressModel",
            "bar_style": "success",
            "max": 9912422,
            "_view_module": "@jupyter-widgets/controls",
            "_model_module_version": "1.5.0",
            "value": 9912422,
            "_view_count": null,
            "_view_module_version": "1.5.0",
            "orientation": "horizontal",
            "min": 0,
            "description_tooltip": null,
            "_model_module": "@jupyter-widgets/controls",
            "layout": "IPY_MODEL_67a1ae1487e34346aceec012d4d7063f"
          }
        },
        "547d15c7da7741dfb548c6f33e3fca79": {
          "model_module": "@jupyter-widgets/controls",
          "model_name": "HTMLModel",
          "state": {
            "_view_name": "HTMLView",
            "style": "IPY_MODEL_88beb0e4e172448b90e7639055f99ab5",
            "_dom_classes": [],
            "description": "",
            "_model_name": "HTMLModel",
            "placeholder": "​",
            "_view_module": "@jupyter-widgets/controls",
            "_model_module_version": "1.5.0",
            "value": " 9913344/? [08:14&lt;00:00, 20029.43it/s]",
            "_view_count": null,
            "_view_module_version": "1.5.0",
            "description_tooltip": null,
            "_model_module": "@jupyter-widgets/controls",
            "layout": "IPY_MODEL_5e8e209fb50f48ed93281393aa541792"
          }
        },
        "9f49ee86d90e4298961ac7ed628e0e00": {
          "model_module": "@jupyter-widgets/controls",
          "model_name": "ProgressStyleModel",
          "state": {
            "_view_name": "StyleView",
            "_model_name": "ProgressStyleModel",
            "description_width": "initial",
            "_view_module": "@jupyter-widgets/base",
            "_model_module_version": "1.5.0",
            "_view_count": null,
            "_view_module_version": "1.2.0",
            "bar_color": null,
            "_model_module": "@jupyter-widgets/controls"
          }
        },
        "67a1ae1487e34346aceec012d4d7063f": {
          "model_module": "@jupyter-widgets/base",
          "model_name": "LayoutModel",
          "state": {
            "_view_name": "LayoutView",
            "grid_template_rows": null,
            "right": null,
            "justify_content": null,
            "_view_module": "@jupyter-widgets/base",
            "overflow": null,
            "_model_module_version": "1.2.0",
            "_view_count": null,
            "flex_flow": null,
            "width": null,
            "min_width": null,
            "border": null,
            "align_items": null,
            "bottom": null,
            "_model_module": "@jupyter-widgets/base",
            "top": null,
            "grid_column": null,
            "overflow_y": null,
            "overflow_x": null,
            "grid_auto_flow": null,
            "grid_area": null,
            "grid_template_columns": null,
            "flex": null,
            "_model_name": "LayoutModel",
            "justify_items": null,
            "grid_row": null,
            "max_height": null,
            "align_content": null,
            "visibility": null,
            "align_self": null,
            "height": null,
            "min_height": null,
            "padding": null,
            "grid_auto_rows": null,
            "grid_gap": null,
            "max_width": null,
            "order": null,
            "_view_module_version": "1.2.0",
            "grid_template_areas": null,
            "object_position": null,
            "object_fit": null,
            "grid_auto_columns": null,
            "margin": null,
            "display": null,
            "left": null
          }
        },
        "88beb0e4e172448b90e7639055f99ab5": {
          "model_module": "@jupyter-widgets/controls",
          "model_name": "DescriptionStyleModel",
          "state": {
            "_view_name": "StyleView",
            "_model_name": "DescriptionStyleModel",
            "description_width": "",
            "_view_module": "@jupyter-widgets/base",
            "_model_module_version": "1.5.0",
            "_view_count": null,
            "_view_module_version": "1.2.0",
            "_model_module": "@jupyter-widgets/controls"
          }
        },
        "5e8e209fb50f48ed93281393aa541792": {
          "model_module": "@jupyter-widgets/base",
          "model_name": "LayoutModel",
          "state": {
            "_view_name": "LayoutView",
            "grid_template_rows": null,
            "right": null,
            "justify_content": null,
            "_view_module": "@jupyter-widgets/base",
            "overflow": null,
            "_model_module_version": "1.2.0",
            "_view_count": null,
            "flex_flow": null,
            "width": null,
            "min_width": null,
            "border": null,
            "align_items": null,
            "bottom": null,
            "_model_module": "@jupyter-widgets/base",
            "top": null,
            "grid_column": null,
            "overflow_y": null,
            "overflow_x": null,
            "grid_auto_flow": null,
            "grid_area": null,
            "grid_template_columns": null,
            "flex": null,
            "_model_name": "LayoutModel",
            "justify_items": null,
            "grid_row": null,
            "max_height": null,
            "align_content": null,
            "visibility": null,
            "align_self": null,
            "height": null,
            "min_height": null,
            "padding": null,
            "grid_auto_rows": null,
            "grid_gap": null,
            "max_width": null,
            "order": null,
            "_view_module_version": "1.2.0",
            "grid_template_areas": null,
            "object_position": null,
            "object_fit": null,
            "grid_auto_columns": null,
            "margin": null,
            "display": null,
            "left": null
          }
        },
        "727464716c6f4ee5bb1940ee91902495": {
          "model_module": "@jupyter-widgets/controls",
          "model_name": "HBoxModel",
          "state": {
            "_view_name": "HBoxView",
            "_dom_classes": [],
            "_model_name": "HBoxModel",
            "_view_module": "@jupyter-widgets/controls",
            "_model_module_version": "1.5.0",
            "_view_count": null,
            "_view_module_version": "1.5.0",
            "box_style": "",
            "layout": "IPY_MODEL_af72330abcf247cdb4396f1c1b2f2eb0",
            "_model_module": "@jupyter-widgets/controls",
            "children": [
              "IPY_MODEL_e8d18fca9ccb4e1f90e22c4362486c98",
              "IPY_MODEL_04fdf2bc130f46bfa7a3b780d894a088"
            ]
          }
        },
        "af72330abcf247cdb4396f1c1b2f2eb0": {
          "model_module": "@jupyter-widgets/base",
          "model_name": "LayoutModel",
          "state": {
            "_view_name": "LayoutView",
            "grid_template_rows": null,
            "right": null,
            "justify_content": null,
            "_view_module": "@jupyter-widgets/base",
            "overflow": null,
            "_model_module_version": "1.2.0",
            "_view_count": null,
            "flex_flow": null,
            "width": null,
            "min_width": null,
            "border": null,
            "align_items": null,
            "bottom": null,
            "_model_module": "@jupyter-widgets/base",
            "top": null,
            "grid_column": null,
            "overflow_y": null,
            "overflow_x": null,
            "grid_auto_flow": null,
            "grid_area": null,
            "grid_template_columns": null,
            "flex": null,
            "_model_name": "LayoutModel",
            "justify_items": null,
            "grid_row": null,
            "max_height": null,
            "align_content": null,
            "visibility": null,
            "align_self": null,
            "height": null,
            "min_height": null,
            "padding": null,
            "grid_auto_rows": null,
            "grid_gap": null,
            "max_width": null,
            "order": null,
            "_view_module_version": "1.2.0",
            "grid_template_areas": null,
            "object_position": null,
            "object_fit": null,
            "grid_auto_columns": null,
            "margin": null,
            "display": null,
            "left": null
          }
        },
        "e8d18fca9ccb4e1f90e22c4362486c98": {
          "model_module": "@jupyter-widgets/controls",
          "model_name": "FloatProgressModel",
          "state": {
            "_view_name": "ProgressView",
            "style": "IPY_MODEL_736e40ae691540d1a212342cd73701df",
            "_dom_classes": [],
            "description": "",
            "_model_name": "FloatProgressModel",
            "bar_style": "success",
            "max": 28881,
            "_view_module": "@jupyter-widgets/controls",
            "_model_module_version": "1.5.0",
            "value": 28881,
            "_view_count": null,
            "_view_module_version": "1.5.0",
            "orientation": "horizontal",
            "min": 0,
            "description_tooltip": null,
            "_model_module": "@jupyter-widgets/controls",
            "layout": "IPY_MODEL_f953e13a197146f5bb225b6aa5d61b35"
          }
        },
        "04fdf2bc130f46bfa7a3b780d894a088": {
          "model_module": "@jupyter-widgets/controls",
          "model_name": "HTMLModel",
          "state": {
            "_view_name": "HTMLView",
            "style": "IPY_MODEL_a06f7047a8f942ee86108ce165a01d2c",
            "_dom_classes": [],
            "description": "",
            "_model_name": "HTMLModel",
            "placeholder": "​",
            "_view_module": "@jupyter-widgets/controls",
            "_model_module_version": "1.5.0",
            "value": " 29696/? [00:02&lt;00:00, 11128.61it/s]",
            "_view_count": null,
            "_view_module_version": "1.5.0",
            "description_tooltip": null,
            "_model_module": "@jupyter-widgets/controls",
            "layout": "IPY_MODEL_2453bb75fa5a47f5ab43b654eb8ff39f"
          }
        },
        "736e40ae691540d1a212342cd73701df": {
          "model_module": "@jupyter-widgets/controls",
          "model_name": "ProgressStyleModel",
          "state": {
            "_view_name": "StyleView",
            "_model_name": "ProgressStyleModel",
            "description_width": "initial",
            "_view_module": "@jupyter-widgets/base",
            "_model_module_version": "1.5.0",
            "_view_count": null,
            "_view_module_version": "1.2.0",
            "bar_color": null,
            "_model_module": "@jupyter-widgets/controls"
          }
        },
        "f953e13a197146f5bb225b6aa5d61b35": {
          "model_module": "@jupyter-widgets/base",
          "model_name": "LayoutModel",
          "state": {
            "_view_name": "LayoutView",
            "grid_template_rows": null,
            "right": null,
            "justify_content": null,
            "_view_module": "@jupyter-widgets/base",
            "overflow": null,
            "_model_module_version": "1.2.0",
            "_view_count": null,
            "flex_flow": null,
            "width": null,
            "min_width": null,
            "border": null,
            "align_items": null,
            "bottom": null,
            "_model_module": "@jupyter-widgets/base",
            "top": null,
            "grid_column": null,
            "overflow_y": null,
            "overflow_x": null,
            "grid_auto_flow": null,
            "grid_area": null,
            "grid_template_columns": null,
            "flex": null,
            "_model_name": "LayoutModel",
            "justify_items": null,
            "grid_row": null,
            "max_height": null,
            "align_content": null,
            "visibility": null,
            "align_self": null,
            "height": null,
            "min_height": null,
            "padding": null,
            "grid_auto_rows": null,
            "grid_gap": null,
            "max_width": null,
            "order": null,
            "_view_module_version": "1.2.0",
            "grid_template_areas": null,
            "object_position": null,
            "object_fit": null,
            "grid_auto_columns": null,
            "margin": null,
            "display": null,
            "left": null
          }
        },
        "a06f7047a8f942ee86108ce165a01d2c": {
          "model_module": "@jupyter-widgets/controls",
          "model_name": "DescriptionStyleModel",
          "state": {
            "_view_name": "StyleView",
            "_model_name": "DescriptionStyleModel",
            "description_width": "",
            "_view_module": "@jupyter-widgets/base",
            "_model_module_version": "1.5.0",
            "_view_count": null,
            "_view_module_version": "1.2.0",
            "_model_module": "@jupyter-widgets/controls"
          }
        },
        "2453bb75fa5a47f5ab43b654eb8ff39f": {
          "model_module": "@jupyter-widgets/base",
          "model_name": "LayoutModel",
          "state": {
            "_view_name": "LayoutView",
            "grid_template_rows": null,
            "right": null,
            "justify_content": null,
            "_view_module": "@jupyter-widgets/base",
            "overflow": null,
            "_model_module_version": "1.2.0",
            "_view_count": null,
            "flex_flow": null,
            "width": null,
            "min_width": null,
            "border": null,
            "align_items": null,
            "bottom": null,
            "_model_module": "@jupyter-widgets/base",
            "top": null,
            "grid_column": null,
            "overflow_y": null,
            "overflow_x": null,
            "grid_auto_flow": null,
            "grid_area": null,
            "grid_template_columns": null,
            "flex": null,
            "_model_name": "LayoutModel",
            "justify_items": null,
            "grid_row": null,
            "max_height": null,
            "align_content": null,
            "visibility": null,
            "align_self": null,
            "height": null,
            "min_height": null,
            "padding": null,
            "grid_auto_rows": null,
            "grid_gap": null,
            "max_width": null,
            "order": null,
            "_view_module_version": "1.2.0",
            "grid_template_areas": null,
            "object_position": null,
            "object_fit": null,
            "grid_auto_columns": null,
            "margin": null,
            "display": null,
            "left": null
          }
        },
        "69623d7ecebc4f5e9070bcf676e7fd6e": {
          "model_module": "@jupyter-widgets/controls",
          "model_name": "HBoxModel",
          "state": {
            "_view_name": "HBoxView",
            "_dom_classes": [],
            "_model_name": "HBoxModel",
            "_view_module": "@jupyter-widgets/controls",
            "_model_module_version": "1.5.0",
            "_view_count": null,
            "_view_module_version": "1.5.0",
            "box_style": "",
            "layout": "IPY_MODEL_7cb3440d1df641eb86f60d8c842823d7",
            "_model_module": "@jupyter-widgets/controls",
            "children": [
              "IPY_MODEL_9ea8a9cb21894463a1466d83edf933db",
              "IPY_MODEL_1324786ecf1e4060a0efdd01aecf4614"
            ]
          }
        },
        "7cb3440d1df641eb86f60d8c842823d7": {
          "model_module": "@jupyter-widgets/base",
          "model_name": "LayoutModel",
          "state": {
            "_view_name": "LayoutView",
            "grid_template_rows": null,
            "right": null,
            "justify_content": null,
            "_view_module": "@jupyter-widgets/base",
            "overflow": null,
            "_model_module_version": "1.2.0",
            "_view_count": null,
            "flex_flow": null,
            "width": null,
            "min_width": null,
            "border": null,
            "align_items": null,
            "bottom": null,
            "_model_module": "@jupyter-widgets/base",
            "top": null,
            "grid_column": null,
            "overflow_y": null,
            "overflow_x": null,
            "grid_auto_flow": null,
            "grid_area": null,
            "grid_template_columns": null,
            "flex": null,
            "_model_name": "LayoutModel",
            "justify_items": null,
            "grid_row": null,
            "max_height": null,
            "align_content": null,
            "visibility": null,
            "align_self": null,
            "height": null,
            "min_height": null,
            "padding": null,
            "grid_auto_rows": null,
            "grid_gap": null,
            "max_width": null,
            "order": null,
            "_view_module_version": "1.2.0",
            "grid_template_areas": null,
            "object_position": null,
            "object_fit": null,
            "grid_auto_columns": null,
            "margin": null,
            "display": null,
            "left": null
          }
        },
        "9ea8a9cb21894463a1466d83edf933db": {
          "model_module": "@jupyter-widgets/controls",
          "model_name": "FloatProgressModel",
          "state": {
            "_view_name": "ProgressView",
            "style": "IPY_MODEL_671b525451c54efc88ec04f1f3fb90b6",
            "_dom_classes": [],
            "description": "",
            "_model_name": "FloatProgressModel",
            "bar_style": "success",
            "max": 1648877,
            "_view_module": "@jupyter-widgets/controls",
            "_model_module_version": "1.5.0",
            "value": 1648877,
            "_view_count": null,
            "_view_module_version": "1.5.0",
            "orientation": "horizontal",
            "min": 0,
            "description_tooltip": null,
            "_model_module": "@jupyter-widgets/controls",
            "layout": "IPY_MODEL_fd72517dd2944b009f81dd7e26e13c5b"
          }
        },
        "1324786ecf1e4060a0efdd01aecf4614": {
          "model_module": "@jupyter-widgets/controls",
          "model_name": "HTMLModel",
          "state": {
            "_view_name": "HTMLView",
            "style": "IPY_MODEL_8066e7cce46a41d19341b2aea58c7d89",
            "_dom_classes": [],
            "description": "",
            "_model_name": "HTMLModel",
            "placeholder": "​",
            "_view_module": "@jupyter-widgets/controls",
            "_model_module_version": "1.5.0",
            "value": " 1649664/? [03:20&lt;00:00, 8220.82it/s]",
            "_view_count": null,
            "_view_module_version": "1.5.0",
            "description_tooltip": null,
            "_model_module": "@jupyter-widgets/controls",
            "layout": "IPY_MODEL_9ff8d29566b34f799973a5284e19b377"
          }
        },
        "671b525451c54efc88ec04f1f3fb90b6": {
          "model_module": "@jupyter-widgets/controls",
          "model_name": "ProgressStyleModel",
          "state": {
            "_view_name": "StyleView",
            "_model_name": "ProgressStyleModel",
            "description_width": "initial",
            "_view_module": "@jupyter-widgets/base",
            "_model_module_version": "1.5.0",
            "_view_count": null,
            "_view_module_version": "1.2.0",
            "bar_color": null,
            "_model_module": "@jupyter-widgets/controls"
          }
        },
        "fd72517dd2944b009f81dd7e26e13c5b": {
          "model_module": "@jupyter-widgets/base",
          "model_name": "LayoutModel",
          "state": {
            "_view_name": "LayoutView",
            "grid_template_rows": null,
            "right": null,
            "justify_content": null,
            "_view_module": "@jupyter-widgets/base",
            "overflow": null,
            "_model_module_version": "1.2.0",
            "_view_count": null,
            "flex_flow": null,
            "width": null,
            "min_width": null,
            "border": null,
            "align_items": null,
            "bottom": null,
            "_model_module": "@jupyter-widgets/base",
            "top": null,
            "grid_column": null,
            "overflow_y": null,
            "overflow_x": null,
            "grid_auto_flow": null,
            "grid_area": null,
            "grid_template_columns": null,
            "flex": null,
            "_model_name": "LayoutModel",
            "justify_items": null,
            "grid_row": null,
            "max_height": null,
            "align_content": null,
            "visibility": null,
            "align_self": null,
            "height": null,
            "min_height": null,
            "padding": null,
            "grid_auto_rows": null,
            "grid_gap": null,
            "max_width": null,
            "order": null,
            "_view_module_version": "1.2.0",
            "grid_template_areas": null,
            "object_position": null,
            "object_fit": null,
            "grid_auto_columns": null,
            "margin": null,
            "display": null,
            "left": null
          }
        },
        "8066e7cce46a41d19341b2aea58c7d89": {
          "model_module": "@jupyter-widgets/controls",
          "model_name": "DescriptionStyleModel",
          "state": {
            "_view_name": "StyleView",
            "_model_name": "DescriptionStyleModel",
            "description_width": "",
            "_view_module": "@jupyter-widgets/base",
            "_model_module_version": "1.5.0",
            "_view_count": null,
            "_view_module_version": "1.2.0",
            "_model_module": "@jupyter-widgets/controls"
          }
        },
        "9ff8d29566b34f799973a5284e19b377": {
          "model_module": "@jupyter-widgets/base",
          "model_name": "LayoutModel",
          "state": {
            "_view_name": "LayoutView",
            "grid_template_rows": null,
            "right": null,
            "justify_content": null,
            "_view_module": "@jupyter-widgets/base",
            "overflow": null,
            "_model_module_version": "1.2.0",
            "_view_count": null,
            "flex_flow": null,
            "width": null,
            "min_width": null,
            "border": null,
            "align_items": null,
            "bottom": null,
            "_model_module": "@jupyter-widgets/base",
            "top": null,
            "grid_column": null,
            "overflow_y": null,
            "overflow_x": null,
            "grid_auto_flow": null,
            "grid_area": null,
            "grid_template_columns": null,
            "flex": null,
            "_model_name": "LayoutModel",
            "justify_items": null,
            "grid_row": null,
            "max_height": null,
            "align_content": null,
            "visibility": null,
            "align_self": null,
            "height": null,
            "min_height": null,
            "padding": null,
            "grid_auto_rows": null,
            "grid_gap": null,
            "max_width": null,
            "order": null,
            "_view_module_version": "1.2.0",
            "grid_template_areas": null,
            "object_position": null,
            "object_fit": null,
            "grid_auto_columns": null,
            "margin": null,
            "display": null,
            "left": null
          }
        },
        "eb85a18b294448f0a95be373fd583177": {
          "model_module": "@jupyter-widgets/controls",
          "model_name": "HBoxModel",
          "state": {
            "_view_name": "HBoxView",
            "_dom_classes": [],
            "_model_name": "HBoxModel",
            "_view_module": "@jupyter-widgets/controls",
            "_model_module_version": "1.5.0",
            "_view_count": null,
            "_view_module_version": "1.5.0",
            "box_style": "",
            "layout": "IPY_MODEL_69115d2adccb4b509e41d948dc1c5726",
            "_model_module": "@jupyter-widgets/controls",
            "children": [
              "IPY_MODEL_f1d24f6dde264d1c88e87461b1576d16",
              "IPY_MODEL_499726f094c84876a733dae2eca3f032"
            ]
          }
        },
        "69115d2adccb4b509e41d948dc1c5726": {
          "model_module": "@jupyter-widgets/base",
          "model_name": "LayoutModel",
          "state": {
            "_view_name": "LayoutView",
            "grid_template_rows": null,
            "right": null,
            "justify_content": null,
            "_view_module": "@jupyter-widgets/base",
            "overflow": null,
            "_model_module_version": "1.2.0",
            "_view_count": null,
            "flex_flow": null,
            "width": null,
            "min_width": null,
            "border": null,
            "align_items": null,
            "bottom": null,
            "_model_module": "@jupyter-widgets/base",
            "top": null,
            "grid_column": null,
            "overflow_y": null,
            "overflow_x": null,
            "grid_auto_flow": null,
            "grid_area": null,
            "grid_template_columns": null,
            "flex": null,
            "_model_name": "LayoutModel",
            "justify_items": null,
            "grid_row": null,
            "max_height": null,
            "align_content": null,
            "visibility": null,
            "align_self": null,
            "height": null,
            "min_height": null,
            "padding": null,
            "grid_auto_rows": null,
            "grid_gap": null,
            "max_width": null,
            "order": null,
            "_view_module_version": "1.2.0",
            "grid_template_areas": null,
            "object_position": null,
            "object_fit": null,
            "grid_auto_columns": null,
            "margin": null,
            "display": null,
            "left": null
          }
        },
        "f1d24f6dde264d1c88e87461b1576d16": {
          "model_module": "@jupyter-widgets/controls",
          "model_name": "FloatProgressModel",
          "state": {
            "_view_name": "ProgressView",
            "style": "IPY_MODEL_cd8ef35d76b049c7bbf7be2b3a71cfca",
            "_dom_classes": [],
            "description": "",
            "_model_name": "FloatProgressModel",
            "bar_style": "success",
            "max": 4542,
            "_view_module": "@jupyter-widgets/controls",
            "_model_module_version": "1.5.0",
            "value": 4542,
            "_view_count": null,
            "_view_module_version": "1.5.0",
            "orientation": "horizontal",
            "min": 0,
            "description_tooltip": null,
            "_model_module": "@jupyter-widgets/controls",
            "layout": "IPY_MODEL_8d3b08df820c4536ba704b9fa3a87c0b"
          }
        },
        "499726f094c84876a733dae2eca3f032": {
          "model_module": "@jupyter-widgets/controls",
          "model_name": "HTMLModel",
          "state": {
            "_view_name": "HTMLView",
            "style": "IPY_MODEL_3e65bdf4388b49f2b65bfcf09684ebcf",
            "_dom_classes": [],
            "description": "",
            "_model_name": "HTMLModel",
            "placeholder": "​",
            "_view_module": "@jupyter-widgets/controls",
            "_model_module_version": "1.5.0",
            "value": " 5120/? [00:15&lt;00:00, 330.18it/s]",
            "_view_count": null,
            "_view_module_version": "1.5.0",
            "description_tooltip": null,
            "_model_module": "@jupyter-widgets/controls",
            "layout": "IPY_MODEL_565abfbf0d2a466daa78ca4e44e1f114"
          }
        },
        "cd8ef35d76b049c7bbf7be2b3a71cfca": {
          "model_module": "@jupyter-widgets/controls",
          "model_name": "ProgressStyleModel",
          "state": {
            "_view_name": "StyleView",
            "_model_name": "ProgressStyleModel",
            "description_width": "initial",
            "_view_module": "@jupyter-widgets/base",
            "_model_module_version": "1.5.0",
            "_view_count": null,
            "_view_module_version": "1.2.0",
            "bar_color": null,
            "_model_module": "@jupyter-widgets/controls"
          }
        },
        "8d3b08df820c4536ba704b9fa3a87c0b": {
          "model_module": "@jupyter-widgets/base",
          "model_name": "LayoutModel",
          "state": {
            "_view_name": "LayoutView",
            "grid_template_rows": null,
            "right": null,
            "justify_content": null,
            "_view_module": "@jupyter-widgets/base",
            "overflow": null,
            "_model_module_version": "1.2.0",
            "_view_count": null,
            "flex_flow": null,
            "width": null,
            "min_width": null,
            "border": null,
            "align_items": null,
            "bottom": null,
            "_model_module": "@jupyter-widgets/base",
            "top": null,
            "grid_column": null,
            "overflow_y": null,
            "overflow_x": null,
            "grid_auto_flow": null,
            "grid_area": null,
            "grid_template_columns": null,
            "flex": null,
            "_model_name": "LayoutModel",
            "justify_items": null,
            "grid_row": null,
            "max_height": null,
            "align_content": null,
            "visibility": null,
            "align_self": null,
            "height": null,
            "min_height": null,
            "padding": null,
            "grid_auto_rows": null,
            "grid_gap": null,
            "max_width": null,
            "order": null,
            "_view_module_version": "1.2.0",
            "grid_template_areas": null,
            "object_position": null,
            "object_fit": null,
            "grid_auto_columns": null,
            "margin": null,
            "display": null,
            "left": null
          }
        },
        "3e65bdf4388b49f2b65bfcf09684ebcf": {
          "model_module": "@jupyter-widgets/controls",
          "model_name": "DescriptionStyleModel",
          "state": {
            "_view_name": "StyleView",
            "_model_name": "DescriptionStyleModel",
            "description_width": "",
            "_view_module": "@jupyter-widgets/base",
            "_model_module_version": "1.5.0",
            "_view_count": null,
            "_view_module_version": "1.2.0",
            "_model_module": "@jupyter-widgets/controls"
          }
        },
        "565abfbf0d2a466daa78ca4e44e1f114": {
          "model_module": "@jupyter-widgets/base",
          "model_name": "LayoutModel",
          "state": {
            "_view_name": "LayoutView",
            "grid_template_rows": null,
            "right": null,
            "justify_content": null,
            "_view_module": "@jupyter-widgets/base",
            "overflow": null,
            "_model_module_version": "1.2.0",
            "_view_count": null,
            "flex_flow": null,
            "width": null,
            "min_width": null,
            "border": null,
            "align_items": null,
            "bottom": null,
            "_model_module": "@jupyter-widgets/base",
            "top": null,
            "grid_column": null,
            "overflow_y": null,
            "overflow_x": null,
            "grid_auto_flow": null,
            "grid_area": null,
            "grid_template_columns": null,
            "flex": null,
            "_model_name": "LayoutModel",
            "justify_items": null,
            "grid_row": null,
            "max_height": null,
            "align_content": null,
            "visibility": null,
            "align_self": null,
            "height": null,
            "min_height": null,
            "padding": null,
            "grid_auto_rows": null,
            "grid_gap": null,
            "max_width": null,
            "order": null,
            "_view_module_version": "1.2.0",
            "grid_template_areas": null,
            "object_position": null,
            "object_fit": null,
            "grid_auto_columns": null,
            "margin": null,
            "display": null,
            "left": null
          }
        }
      }
    }
  },
  "cells": [
    {
      "cell_type": "code",
      "metadata": {
        "id": "-QudXft4koFK"
      },
      "source": [
        "import matplotlib.pyplot as plt\n",
        "import numpy as np\n",
        "from sklearn.model_selection import KFold\n",
        "import random\n",
        "\n",
        "import torch\n",
        "import torch.nn as nn\n",
        "import torch.optim as optim\n",
        "from torch.utils.data import Dataset, DataLoader,TensorDataset,random_split,SubsetRandomSampler, ConcatDataset\n",
        "from torch.nn import functional as F\n",
        "import torchvision\n",
        "from torchvision import datasets,transforms\n",
        "import torchvision.transforms as transforms"
      ],
      "execution_count": 1,
      "outputs": []
    },
    {
      "cell_type": "markdown",
      "metadata": {
        "id": "F3io5gCVlhsQ"
      },
      "source": [
        "## 1: Import dataset"
      ]
    },
    {
      "cell_type": "code",
      "metadata": {
        "colab": {
          "base_uri": "https://localhost:8080/",
          "height": 700,
          "referenced_widgets": [
            "1b0da219de86448f99f0ff1cb00957ef",
            "c3a67c9f185547219de9c555fad3467d",
            "2a699560b517473b8233d279dd85c791",
            "547d15c7da7741dfb548c6f33e3fca79",
            "9f49ee86d90e4298961ac7ed628e0e00",
            "67a1ae1487e34346aceec012d4d7063f",
            "88beb0e4e172448b90e7639055f99ab5",
            "5e8e209fb50f48ed93281393aa541792",
            "727464716c6f4ee5bb1940ee91902495",
            "af72330abcf247cdb4396f1c1b2f2eb0",
            "e8d18fca9ccb4e1f90e22c4362486c98",
            "04fdf2bc130f46bfa7a3b780d894a088",
            "736e40ae691540d1a212342cd73701df",
            "f953e13a197146f5bb225b6aa5d61b35",
            "a06f7047a8f942ee86108ce165a01d2c",
            "2453bb75fa5a47f5ab43b654eb8ff39f",
            "69623d7ecebc4f5e9070bcf676e7fd6e",
            "7cb3440d1df641eb86f60d8c842823d7",
            "9ea8a9cb21894463a1466d83edf933db",
            "1324786ecf1e4060a0efdd01aecf4614",
            "671b525451c54efc88ec04f1f3fb90b6",
            "fd72517dd2944b009f81dd7e26e13c5b",
            "8066e7cce46a41d19341b2aea58c7d89",
            "9ff8d29566b34f799973a5284e19b377",
            "eb85a18b294448f0a95be373fd583177",
            "69115d2adccb4b509e41d948dc1c5726",
            "f1d24f6dde264d1c88e87461b1576d16",
            "499726f094c84876a733dae2eca3f032",
            "cd8ef35d76b049c7bbf7be2b3a71cfca",
            "8d3b08df820c4536ba704b9fa3a87c0b",
            "3e65bdf4388b49f2b65bfcf09684ebcf",
            "565abfbf0d2a466daa78ca4e44e1f114"
          ]
        },
        "id": "5502mKCilADx",
        "outputId": "2ce27495-f3bc-437b-b11d-b90aeb4a2a5a"
      },
      "source": [
        "train_dataset = torchvision.datasets.MNIST('classifier_data', train=True, download=True)\n",
        "test_dataset  = torchvision.datasets.MNIST('classifier_data', train=False, download=True)\n",
        "\n",
        "transform = torchvision.transforms.Compose([\n",
        "    torchvision.transforms.ToTensor()\n",
        "])\n",
        "\n",
        "train_dataset.transform=transform\n",
        "test_dataset.transform=transform\n",
        "\n",
        "m=len(train_dataset)"
      ],
      "execution_count": 2,
      "outputs": [
        {
          "output_type": "stream",
          "text": [
            "Downloading http://yann.lecun.com/exdb/mnist/train-images-idx3-ubyte.gz\n",
            "Downloading http://yann.lecun.com/exdb/mnist/train-images-idx3-ubyte.gz to classifier_data/MNIST/raw/train-images-idx3-ubyte.gz\n"
          ],
          "name": "stdout"
        },
        {
          "output_type": "display_data",
          "data": {
            "application/vnd.jupyter.widget-view+json": {
              "model_id": "1b0da219de86448f99f0ff1cb00957ef",
              "version_minor": 0,
              "version_major": 2
            },
            "text/plain": [
              "HBox(children=(FloatProgress(value=0.0, max=9912422.0), HTML(value='')))"
            ]
          },
          "metadata": {
            "tags": []
          }
        },
        {
          "output_type": "stream",
          "text": [
            "\n",
            "Extracting classifier_data/MNIST/raw/train-images-idx3-ubyte.gz to classifier_data/MNIST/raw\n",
            "\n",
            "Downloading http://yann.lecun.com/exdb/mnist/train-labels-idx1-ubyte.gz\n",
            "Downloading http://yann.lecun.com/exdb/mnist/train-labels-idx1-ubyte.gz to classifier_data/MNIST/raw/train-labels-idx1-ubyte.gz\n",
            "Failed to download (trying next):\n",
            "HTTP Error 503: Service Unavailable\n",
            "\n",
            "Downloading https://ossci-datasets.s3.amazonaws.com/mnist/train-labels-idx1-ubyte.gz\n",
            "Downloading https://ossci-datasets.s3.amazonaws.com/mnist/train-labels-idx1-ubyte.gz to classifier_data/MNIST/raw/train-labels-idx1-ubyte.gz\n"
          ],
          "name": "stdout"
        },
        {
          "output_type": "display_data",
          "data": {
            "application/vnd.jupyter.widget-view+json": {
              "model_id": "727464716c6f4ee5bb1940ee91902495",
              "version_minor": 0,
              "version_major": 2
            },
            "text/plain": [
              "HBox(children=(FloatProgress(value=0.0, max=28881.0), HTML(value='')))"
            ]
          },
          "metadata": {
            "tags": []
          }
        },
        {
          "output_type": "stream",
          "text": [
            "\n",
            "Extracting classifier_data/MNIST/raw/train-labels-idx1-ubyte.gz to classifier_data/MNIST/raw\n",
            "\n",
            "Downloading http://yann.lecun.com/exdb/mnist/t10k-images-idx3-ubyte.gz\n",
            "Downloading http://yann.lecun.com/exdb/mnist/t10k-images-idx3-ubyte.gz to classifier_data/MNIST/raw/t10k-images-idx3-ubyte.gz\n",
            "Failed to download (trying next):\n",
            "HTTP Error 503: Service Unavailable\n",
            "\n",
            "Downloading https://ossci-datasets.s3.amazonaws.com/mnist/t10k-images-idx3-ubyte.gz\n",
            "Downloading https://ossci-datasets.s3.amazonaws.com/mnist/t10k-images-idx3-ubyte.gz to classifier_data/MNIST/raw/t10k-images-idx3-ubyte.gz\n"
          ],
          "name": "stdout"
        },
        {
          "output_type": "display_data",
          "data": {
            "application/vnd.jupyter.widget-view+json": {
              "model_id": "69623d7ecebc4f5e9070bcf676e7fd6e",
              "version_minor": 0,
              "version_major": 2
            },
            "text/plain": [
              "HBox(children=(FloatProgress(value=0.0, max=1648877.0), HTML(value='')))"
            ]
          },
          "metadata": {
            "tags": []
          }
        },
        {
          "output_type": "stream",
          "text": [
            "\n",
            "Extracting classifier_data/MNIST/raw/t10k-images-idx3-ubyte.gz to classifier_data/MNIST/raw\n",
            "\n",
            "Downloading http://yann.lecun.com/exdb/mnist/t10k-labels-idx1-ubyte.gz\n",
            "Downloading http://yann.lecun.com/exdb/mnist/t10k-labels-idx1-ubyte.gz to classifier_data/MNIST/raw/t10k-labels-idx1-ubyte.gz\n"
          ],
          "name": "stdout"
        },
        {
          "output_type": "display_data",
          "data": {
            "application/vnd.jupyter.widget-view+json": {
              "model_id": "eb85a18b294448f0a95be373fd583177",
              "version_minor": 0,
              "version_major": 2
            },
            "text/plain": [
              "HBox(children=(FloatProgress(value=0.0, max=4542.0), HTML(value='')))"
            ]
          },
          "metadata": {
            "tags": []
          }
        },
        {
          "output_type": "stream",
          "text": [
            "\n",
            "Extracting classifier_data/MNIST/raw/t10k-labels-idx1-ubyte.gz to classifier_data/MNIST/raw\n",
            "\n"
          ],
          "name": "stdout"
        },
        {
          "output_type": "stream",
          "text": [
            "/usr/local/lib/python3.7/dist-packages/torchvision/datasets/mnist.py:498: UserWarning: The given NumPy array is not writeable, and PyTorch does not support non-writeable tensors. This means you can write to the underlying (supposedly non-writeable) NumPy array using the tensor. You may want to copy the array to protect its data or make it writeable before converting it to a tensor. This type of warning will be suppressed for the rest of this program. (Triggered internally at  /pytorch/torch/csrc/utils/tensor_numpy.cpp:180.)\n",
            "  return torch.from_numpy(parsed.astype(m[2], copy=False)).view(*s)\n"
          ],
          "name": "stderr"
        }
      ]
    },
    {
      "cell_type": "markdown",
      "metadata": {
        "id": "UcxJhzv0lt5v"
      },
      "source": [
        "## 2. Define cnn class"
      ]
    },
    {
      "cell_type": "code",
      "metadata": {
        "id": "2pvwGeL-lANc"
      },
      "source": [
        "class ConvNet(nn.Module):\n",
        "    def __init__(self,h1=96):\n",
        "        # We optimize dropout rate in a convolutional neural network.\n",
        "        super(ConvNet, self).__init__()\n",
        "\n",
        "        self.conv1 = nn.Conv2d(in_channels=1, out_channels=16, kernel_size=5, stride=1, padding=2)\n",
        "\n",
        "        self.conv2 = nn.Conv2d(in_channels=16, out_channels=32, kernel_size=5, stride=1, padding=2)\n",
        "        self.drop1=nn.Dropout2d(p=0.5)   \n",
        "\n",
        "        self.fc1 = nn.Linear(32 * 7 * 7, h1)\n",
        "        self.drop2=nn.Dropout2d(p=0.1)\n",
        "\n",
        "        self.fc2 = nn.Linear(h1, 10)\n",
        "\n",
        "    def forward(self, x):\n",
        "        x = F.relu(F.max_pool2d(self.conv1(x),kernel_size = 2))\n",
        "\n",
        "        x = F.relu(F.max_pool2d(self.conv2(x),kernel_size = 2))\n",
        "        x = self.drop1(x)\n",
        "\n",
        "        x = x.view(x.size(0),-1)\n",
        "\n",
        "        x = F.relu(self.fc1(x))\n",
        "        x = self.drop2(x)\n",
        "\n",
        "        x = self.fc2(x)\n",
        "\n",
        "        return x"
      ],
      "execution_count": 3,
      "outputs": []
    },
    {
      "cell_type": "markdown",
      "metadata": {
        "id": "ggpR3N1Cl21B"
      },
      "source": [
        "## 3.Initialize "
      ]
    },
    {
      "cell_type": "code",
      "metadata": {
        "id": "kU77J57WlNrn"
      },
      "source": [
        "device = torch.device(\"cuda:0\" if torch.cuda.is_available() else \"cpu\")\n",
        "torch.manual_seed(42)\n",
        "criterion = nn.CrossEntropyLoss()"
      ],
      "execution_count": 13,
      "outputs": []
    },
    {
      "cell_type": "code",
      "metadata": {
        "id": "0DWtE1AXlARu"
      },
      "source": [
        "dataset = ConcatDataset([train_dataset, test_dataset])\n",
        "\n",
        "num_epochs=10\n",
        "batch_size=128\n",
        "k=10\n",
        "splits=KFold(n_splits=k,shuffle=True,random_state=42)\n",
        "foldperf={}"
      ],
      "execution_count": 14,
      "outputs": []
    },
    {
      "cell_type": "markdown",
      "metadata": {
        "id": "1v2vbnc2nB8_"
      },
      "source": [
        "## 4.K Fold Cross Validation"
      ]
    },
    {
      "cell_type": "code",
      "metadata": {
        "id": "brZNPBDYnRC_"
      },
      "source": [
        "def train_epoch(model,device,dataloader,loss_fn,optimizer):\n",
        "    train_loss,train_correct=0.0,0\n",
        "    model.train()\n",
        "    for images, labels in dataloader:\n",
        "\n",
        "        images,labels = images.to(device),labels.to(device)\n",
        "        optimizer.zero_grad()\n",
        "        output = model(images)\n",
        "        loss = loss_fn(output,labels)\n",
        "        loss.backward()\n",
        "        optimizer.step()\n",
        "        train_loss += loss.item() * images.size(0)\n",
        "        scores, predictions = torch.max(output.data, 1)\n",
        "        train_correct += (predictions == labels).sum().item()\n",
        "\n",
        "    return train_loss,train_correct"
      ],
      "execution_count": 8,
      "outputs": []
    },
    {
      "cell_type": "code",
      "metadata": {
        "id": "0SJgs_jznSvf"
      },
      "source": [
        "def valid_epoch(model,device,dataloader,loss_fn):\n",
        "    valid_loss, val_correct = 0.0, 0\n",
        "    model.eval()\n",
        "    for images, labels in dataloader:\n",
        "\n",
        "        images,labels = images.to(device),labels.to(device)\n",
        "        output = model(images)\n",
        "        loss=loss_fn(output,labels)\n",
        "        valid_loss+=loss.item()*images.size(0)\n",
        "        scores, predictions = torch.max(output.data,1)\n",
        "        val_correct+=(predictions == labels).sum().item()\n",
        "\n",
        "    return valid_loss,val_correct"
      ],
      "execution_count": 9,
      "outputs": []
    },
    {
      "cell_type": "code",
      "metadata": {
        "colab": {
          "base_uri": "https://localhost:8080/"
        },
        "id": "eTO3ROcElPXv",
        "outputId": "f4d55f34-1078-4ed8-d7c5-18727762376d"
      },
      "source": [
        "for fold, (train_idx,val_idx) in enumerate(splits.split(np.arange(len(dataset)))):\n",
        "\n",
        "    print('Fold {}'.format(fold + 1))\n",
        "\n",
        "    train_sampler = SubsetRandomSampler(train_idx)\n",
        "    test_sampler = SubsetRandomSampler(val_idx)\n",
        "    train_loader = DataLoader(dataset, batch_size=batch_size, sampler=train_sampler)\n",
        "    test_loader = DataLoader(dataset, batch_size=batch_size, sampler=test_sampler)\n",
        "    \n",
        "    device = torch.device(\"cuda:0\" if torch.cuda.is_available() else \"cpu\")\n",
        "    \n",
        "    model = ConvNet()\n",
        "    model.to(device)\n",
        "    optimizer = optim.Adam(model.parameters(), lr=0.002)\n",
        "\n",
        "    history = {'train_loss': [], 'test_loss': [],'train_acc':[],'test_acc':[]}\n",
        "\n",
        "    for epoch in range(num_epochs):\n",
        "        train_loss, train_correct=train_epoch(model,device,train_loader,criterion,optimizer)\n",
        "        test_loss, test_correct=valid_epoch(model,device,test_loader,criterion)\n",
        "\n",
        "        train_loss = train_loss / len(train_loader.sampler)\n",
        "        train_acc = train_correct / len(train_loader.sampler) * 100\n",
        "        test_loss = test_loss / len(test_loader.sampler)\n",
        "        test_acc = test_correct / len(test_loader.sampler) * 100\n",
        "\n",
        "        print(\"Epoch:{}/{} AVG Training Loss:{:.3f} AVG Test Loss:{:.3f} AVG Training Acc {:.2f} % AVG Test Acc {:.2f} %\".format(epoch + 1,\n",
        "                                                                                                             num_epochs,\n",
        "                                                                                                             train_loss,\n",
        "                                                                                                             test_loss,\n",
        "                                                                                                             train_acc,\n",
        "                                                                                                             test_acc))\n",
        "        history['train_loss'].append(train_loss)\n",
        "        history['test_loss'].append(test_loss)\n",
        "        history['train_acc'].append(train_acc)\n",
        "        history['test_acc'].append(test_acc)\n",
        "\n",
        "    foldperf['fold{}'.format(fold+1)] = history  \n",
        "\n",
        "torch.save(model,'k_cross_CNN.pt')    "
      ],
      "execution_count": 15,
      "outputs": [
        {
          "output_type": "stream",
          "text": [
            "Fold 1\n",
            "Epoch:1/10 AVG Training Loss:0.229 AVG Test Loss:0.071 AVG Training Acc 92.96 % AVG Test Acc 97.73 %\n",
            "Epoch:2/10 AVG Training Loss:0.075 AVG Test Loss:0.051 AVG Training Acc 97.65 % AVG Test Acc 98.11 %\n",
            "Epoch:3/10 AVG Training Loss:0.059 AVG Test Loss:0.046 AVG Training Acc 98.23 % AVG Test Acc 98.57 %\n",
            "Epoch:4/10 AVG Training Loss:0.050 AVG Test Loss:0.036 AVG Training Acc 98.47 % AVG Test Acc 98.76 %\n",
            "Epoch:5/10 AVG Training Loss:0.041 AVG Test Loss:0.033 AVG Training Acc 98.73 % AVG Test Acc 98.94 %\n",
            "Epoch:6/10 AVG Training Loss:0.041 AVG Test Loss:0.030 AVG Training Acc 98.72 % AVG Test Acc 98.94 %\n",
            "Epoch:7/10 AVG Training Loss:0.035 AVG Test Loss:0.032 AVG Training Acc 98.89 % AVG Test Acc 98.83 %\n",
            "Epoch:8/10 AVG Training Loss:0.034 AVG Test Loss:0.044 AVG Training Acc 98.95 % AVG Test Acc 98.66 %\n",
            "Epoch:9/10 AVG Training Loss:0.030 AVG Test Loss:0.036 AVG Training Acc 99.04 % AVG Test Acc 98.87 %\n",
            "Epoch:10/10 AVG Training Loss:0.029 AVG Test Loss:0.029 AVG Training Acc 99.05 % AVG Test Acc 99.14 %\n",
            "Fold 2\n",
            "Epoch:1/10 AVG Training Loss:0.227 AVG Test Loss:0.064 AVG Training Acc 92.94 % AVG Test Acc 97.96 %\n",
            "Epoch:2/10 AVG Training Loss:0.079 AVG Test Loss:0.045 AVG Training Acc 97.59 % AVG Test Acc 98.69 %\n",
            "Epoch:3/10 AVG Training Loss:0.060 AVG Test Loss:0.038 AVG Training Acc 98.15 % AVG Test Acc 98.74 %\n",
            "Epoch:4/10 AVG Training Loss:0.052 AVG Test Loss:0.033 AVG Training Acc 98.35 % AVG Test Acc 98.91 %\n",
            "Epoch:5/10 AVG Training Loss:0.045 AVG Test Loss:0.034 AVG Training Acc 98.55 % AVG Test Acc 98.99 %\n",
            "Epoch:6/10 AVG Training Loss:0.040 AVG Test Loss:0.032 AVG Training Acc 98.71 % AVG Test Acc 99.03 %\n",
            "Epoch:7/10 AVG Training Loss:0.037 AVG Test Loss:0.029 AVG Training Acc 98.83 % AVG Test Acc 99.17 %\n",
            "Epoch:8/10 AVG Training Loss:0.033 AVG Test Loss:0.032 AVG Training Acc 98.93 % AVG Test Acc 99.06 %\n",
            "Epoch:9/10 AVG Training Loss:0.032 AVG Test Loss:0.031 AVG Training Acc 98.97 % AVG Test Acc 99.04 %\n",
            "Epoch:10/10 AVG Training Loss:0.029 AVG Test Loss:0.027 AVG Training Acc 99.05 % AVG Test Acc 99.23 %\n",
            "Fold 3\n",
            "Epoch:1/10 AVG Training Loss:0.250 AVG Test Loss:0.062 AVG Training Acc 92.30 % AVG Test Acc 98.06 %\n",
            "Epoch:2/10 AVG Training Loss:0.085 AVG Test Loss:0.045 AVG Training Acc 97.40 % AVG Test Acc 98.59 %\n",
            "Epoch:3/10 AVG Training Loss:0.062 AVG Test Loss:0.049 AVG Training Acc 98.01 % AVG Test Acc 98.51 %\n",
            "Epoch:4/10 AVG Training Loss:0.055 AVG Test Loss:0.037 AVG Training Acc 98.29 % AVG Test Acc 98.84 %\n",
            "Epoch:5/10 AVG Training Loss:0.047 AVG Test Loss:0.039 AVG Training Acc 98.51 % AVG Test Acc 98.99 %\n",
            "Epoch:6/10 AVG Training Loss:0.043 AVG Test Loss:0.032 AVG Training Acc 98.62 % AVG Test Acc 99.01 %\n",
            "Epoch:7/10 AVG Training Loss:0.038 AVG Test Loss:0.032 AVG Training Acc 98.83 % AVG Test Acc 99.11 %\n",
            "Epoch:8/10 AVG Training Loss:0.034 AVG Test Loss:0.030 AVG Training Acc 98.97 % AVG Test Acc 99.20 %\n",
            "Epoch:9/10 AVG Training Loss:0.032 AVG Test Loss:0.031 AVG Training Acc 98.96 % AVG Test Acc 99.19 %\n",
            "Epoch:10/10 AVG Training Loss:0.030 AVG Test Loss:0.026 AVG Training Acc 99.01 % AVG Test Acc 99.29 %\n",
            "Fold 4\n",
            "Epoch:1/10 AVG Training Loss:0.241 AVG Test Loss:0.059 AVG Training Acc 92.67 % AVG Test Acc 98.03 %\n",
            "Epoch:2/10 AVG Training Loss:0.077 AVG Test Loss:0.038 AVG Training Acc 97.70 % AVG Test Acc 98.90 %\n",
            "Epoch:3/10 AVG Training Loss:0.058 AVG Test Loss:0.032 AVG Training Acc 98.20 % AVG Test Acc 98.97 %\n",
            "Epoch:4/10 AVG Training Loss:0.051 AVG Test Loss:0.034 AVG Training Acc 98.47 % AVG Test Acc 98.86 %\n",
            "Epoch:5/10 AVG Training Loss:0.044 AVG Test Loss:0.028 AVG Training Acc 98.63 % AVG Test Acc 99.16 %\n",
            "Epoch:6/10 AVG Training Loss:0.040 AVG Test Loss:0.028 AVG Training Acc 98.75 % AVG Test Acc 99.16 %\n",
            "Epoch:7/10 AVG Training Loss:0.036 AVG Test Loss:0.028 AVG Training Acc 98.84 % AVG Test Acc 99.09 %\n",
            "Epoch:8/10 AVG Training Loss:0.034 AVG Test Loss:0.029 AVG Training Acc 98.92 % AVG Test Acc 99.06 %\n",
            "Epoch:9/10 AVG Training Loss:0.031 AVG Test Loss:0.029 AVG Training Acc 99.02 % AVG Test Acc 99.04 %\n",
            "Epoch:10/10 AVG Training Loss:0.029 AVG Test Loss:0.025 AVG Training Acc 99.05 % AVG Test Acc 99.19 %\n",
            "Fold 5\n",
            "Epoch:1/10 AVG Training Loss:0.247 AVG Test Loss:0.065 AVG Training Acc 92.28 % AVG Test Acc 97.97 %\n",
            "Epoch:2/10 AVG Training Loss:0.083 AVG Test Loss:0.060 AVG Training Acc 97.50 % AVG Test Acc 98.33 %\n",
            "Epoch:3/10 AVG Training Loss:0.064 AVG Test Loss:0.049 AVG Training Acc 98.02 % AVG Test Acc 98.50 %\n",
            "Epoch:4/10 AVG Training Loss:0.054 AVG Test Loss:0.043 AVG Training Acc 98.36 % AVG Test Acc 98.86 %\n",
            "Epoch:5/10 AVG Training Loss:0.047 AVG Test Loss:0.043 AVG Training Acc 98.56 % AVG Test Acc 98.79 %\n",
            "Epoch:6/10 AVG Training Loss:0.043 AVG Test Loss:0.033 AVG Training Acc 98.70 % AVG Test Acc 99.06 %\n",
            "Epoch:7/10 AVG Training Loss:0.037 AVG Test Loss:0.033 AVG Training Acc 98.80 % AVG Test Acc 99.00 %\n",
            "Epoch:8/10 AVG Training Loss:0.035 AVG Test Loss:0.038 AVG Training Acc 98.89 % AVG Test Acc 99.01 %\n",
            "Epoch:9/10 AVG Training Loss:0.035 AVG Test Loss:0.032 AVG Training Acc 98.90 % AVG Test Acc 98.99 %\n",
            "Epoch:10/10 AVG Training Loss:0.032 AVG Test Loss:0.037 AVG Training Acc 98.94 % AVG Test Acc 98.91 %\n",
            "Fold 6\n",
            "Epoch:1/10 AVG Training Loss:0.240 AVG Test Loss:0.063 AVG Training Acc 92.48 % AVG Test Acc 98.09 %\n",
            "Epoch:2/10 AVG Training Loss:0.082 AVG Test Loss:0.038 AVG Training Acc 97.55 % AVG Test Acc 98.89 %\n",
            "Epoch:3/10 AVG Training Loss:0.062 AVG Test Loss:0.039 AVG Training Acc 98.13 % AVG Test Acc 98.76 %\n",
            "Epoch:4/10 AVG Training Loss:0.055 AVG Test Loss:0.032 AVG Training Acc 98.38 % AVG Test Acc 98.93 %\n",
            "Epoch:5/10 AVG Training Loss:0.047 AVG Test Loss:0.033 AVG Training Acc 98.53 % AVG Test Acc 98.94 %\n",
            "Epoch:6/10 AVG Training Loss:0.042 AVG Test Loss:0.031 AVG Training Acc 98.68 % AVG Test Acc 99.03 %\n",
            "Epoch:7/10 AVG Training Loss:0.037 AVG Test Loss:0.030 AVG Training Acc 98.89 % AVG Test Acc 99.06 %\n",
            "Epoch:8/10 AVG Training Loss:0.035 AVG Test Loss:0.025 AVG Training Acc 98.95 % AVG Test Acc 99.16 %\n",
            "Epoch:9/10 AVG Training Loss:0.031 AVG Test Loss:0.026 AVG Training Acc 99.00 % AVG Test Acc 99.23 %\n",
            "Epoch:10/10 AVG Training Loss:0.032 AVG Test Loss:0.028 AVG Training Acc 99.01 % AVG Test Acc 99.19 %\n",
            "Fold 7\n",
            "Epoch:1/10 AVG Training Loss:0.234 AVG Test Loss:0.052 AVG Training Acc 92.86 % AVG Test Acc 98.43 %\n",
            "Epoch:2/10 AVG Training Loss:0.081 AVG Test Loss:0.041 AVG Training Acc 97.54 % AVG Test Acc 98.59 %\n",
            "Epoch:3/10 AVG Training Loss:0.063 AVG Test Loss:0.032 AVG Training Acc 98.11 % AVG Test Acc 99.01 %\n",
            "Epoch:4/10 AVG Training Loss:0.051 AVG Test Loss:0.032 AVG Training Acc 98.43 % AVG Test Acc 99.04 %\n",
            "Epoch:5/10 AVG Training Loss:0.046 AVG Test Loss:0.036 AVG Training Acc 98.57 % AVG Test Acc 99.04 %\n",
            "Epoch:6/10 AVG Training Loss:0.040 AVG Test Loss:0.032 AVG Training Acc 98.72 % AVG Test Acc 99.10 %\n",
            "Epoch:7/10 AVG Training Loss:0.038 AVG Test Loss:0.028 AVG Training Acc 98.84 % AVG Test Acc 99.19 %\n",
            "Epoch:8/10 AVG Training Loss:0.035 AVG Test Loss:0.028 AVG Training Acc 98.88 % AVG Test Acc 99.24 %\n",
            "Epoch:9/10 AVG Training Loss:0.029 AVG Test Loss:0.033 AVG Training Acc 99.10 % AVG Test Acc 99.19 %\n",
            "Epoch:10/10 AVG Training Loss:0.031 AVG Test Loss:0.028 AVG Training Acc 99.02 % AVG Test Acc 99.27 %\n",
            "Fold 8\n",
            "Epoch:1/10 AVG Training Loss:0.235 AVG Test Loss:0.073 AVG Training Acc 92.82 % AVG Test Acc 97.77 %\n",
            "Epoch:2/10 AVG Training Loss:0.081 AVG Test Loss:0.063 AVG Training Acc 97.58 % AVG Test Acc 98.14 %\n",
            "Epoch:3/10 AVG Training Loss:0.062 AVG Test Loss:0.053 AVG Training Acc 98.11 % AVG Test Acc 98.40 %\n",
            "Epoch:4/10 AVG Training Loss:0.051 AVG Test Loss:0.050 AVG Training Acc 98.43 % AVG Test Acc 98.64 %\n",
            "Epoch:5/10 AVG Training Loss:0.045 AVG Test Loss:0.042 AVG Training Acc 98.62 % AVG Test Acc 98.81 %\n",
            "Epoch:6/10 AVG Training Loss:0.041 AVG Test Loss:0.046 AVG Training Acc 98.73 % AVG Test Acc 98.80 %\n",
            "Epoch:7/10 AVG Training Loss:0.039 AVG Test Loss:0.040 AVG Training Acc 98.79 % AVG Test Acc 98.89 %\n",
            "Epoch:8/10 AVG Training Loss:0.036 AVG Test Loss:0.042 AVG Training Acc 98.85 % AVG Test Acc 98.94 %\n",
            "Epoch:9/10 AVG Training Loss:0.033 AVG Test Loss:0.042 AVG Training Acc 98.98 % AVG Test Acc 98.99 %\n",
            "Epoch:10/10 AVG Training Loss:0.032 AVG Test Loss:0.043 AVG Training Acc 98.97 % AVG Test Acc 98.90 %\n",
            "Fold 9\n",
            "Epoch:1/10 AVG Training Loss:0.237 AVG Test Loss:0.067 AVG Training Acc 92.64 % AVG Test Acc 97.83 %\n",
            "Epoch:2/10 AVG Training Loss:0.084 AVG Test Loss:0.047 AVG Training Acc 97.45 % AVG Test Acc 98.40 %\n",
            "Epoch:3/10 AVG Training Loss:0.062 AVG Test Loss:0.040 AVG Training Acc 98.05 % AVG Test Acc 98.61 %\n",
            "Epoch:4/10 AVG Training Loss:0.053 AVG Test Loss:0.039 AVG Training Acc 98.43 % AVG Test Acc 98.93 %\n",
            "Epoch:5/10 AVG Training Loss:0.047 AVG Test Loss:0.029 AVG Training Acc 98.59 % AVG Test Acc 99.07 %\n",
            "Epoch:6/10 AVG Training Loss:0.043 AVG Test Loss:0.027 AVG Training Acc 98.62 % AVG Test Acc 99.11 %\n",
            "Epoch:7/10 AVG Training Loss:0.038 AVG Test Loss:0.032 AVG Training Acc 98.79 % AVG Test Acc 99.11 %\n",
            "Epoch:8/10 AVG Training Loss:0.037 AVG Test Loss:0.025 AVG Training Acc 98.85 % AVG Test Acc 99.29 %\n",
            "Epoch:9/10 AVG Training Loss:0.034 AVG Test Loss:0.032 AVG Training Acc 98.97 % AVG Test Acc 98.96 %\n",
            "Epoch:10/10 AVG Training Loss:0.030 AVG Test Loss:0.035 AVG Training Acc 99.07 % AVG Test Acc 99.01 %\n",
            "Fold 10\n",
            "Epoch:1/10 AVG Training Loss:0.234 AVG Test Loss:0.070 AVG Training Acc 92.78 % AVG Test Acc 97.86 %\n",
            "Epoch:2/10 AVG Training Loss:0.083 AVG Test Loss:0.043 AVG Training Acc 97.44 % AVG Test Acc 98.71 %\n",
            "Epoch:3/10 AVG Training Loss:0.063 AVG Test Loss:0.050 AVG Training Acc 98.06 % AVG Test Acc 98.50 %\n",
            "Epoch:4/10 AVG Training Loss:0.051 AVG Test Loss:0.033 AVG Training Acc 98.43 % AVG Test Acc 99.04 %\n",
            "Epoch:5/10 AVG Training Loss:0.046 AVG Test Loss:0.030 AVG Training Acc 98.53 % AVG Test Acc 99.07 %\n",
            "Epoch:6/10 AVG Training Loss:0.038 AVG Test Loss:0.029 AVG Training Acc 98.80 % AVG Test Acc 99.09 %\n",
            "Epoch:7/10 AVG Training Loss:0.036 AVG Test Loss:0.029 AVG Training Acc 98.85 % AVG Test Acc 99.20 %\n",
            "Epoch:8/10 AVG Training Loss:0.033 AVG Test Loss:0.029 AVG Training Acc 99.00 % AVG Test Acc 99.23 %\n",
            "Epoch:9/10 AVG Training Loss:0.031 AVG Test Loss:0.031 AVG Training Acc 99.00 % AVG Test Acc 99.11 %\n",
            "Epoch:10/10 AVG Training Loss:0.027 AVG Test Loss:0.021 AVG Training Acc 99.11 % AVG Test Acc 99.34 %\n"
          ],
          "name": "stdout"
        }
      ]
    },
    {
      "cell_type": "code",
      "metadata": {
        "colab": {
          "base_uri": "https://localhost:8080/"
        },
        "id": "-rFpzm9mlWgQ",
        "outputId": "87dc0348-979f-4c91-8ec3-0f0b3c5bf9dc"
      },
      "source": [
        "testl_f,tl_f,testa_f,ta_f=[],[],[],[]\n",
        "k=10\n",
        "for f in range(1,k+1):\n",
        "\n",
        "     tl_f.append(np.mean(foldperf['fold{}'.format(f)]['train_loss']))\n",
        "     testl_f.append(np.mean(foldperf['fold{}'.format(f)]['test_loss']))\n",
        "\n",
        "     ta_f.append(np.mean(foldperf['fold{}'.format(f)]['train_acc']))\n",
        "     testa_f.append(np.mean(foldperf['fold{}'.format(f)]['test_acc']))\n",
        "\n",
        "print('Performance of {} fold cross validation'.format(k))\n",
        "print(\"Average Training Loss: {:.3f} \\t Average Test Loss: {:.3f} \\t Average Training Acc: {:.2f} \\t Average Test Acc: {:.2f}\".format(np.mean(tl_f),np.mean(testl_f),np.mean(ta_f),np.mean(testa_f)))     "
      ],
      "execution_count": 16,
      "outputs": [
        {
          "output_type": "stream",
          "text": [
            "Performance of 10 fold cross validation\n",
            "Average Training Loss: 0.065 \t Average Test Loss: 0.038 \t Average Training Acc: 97.98 \t Average Test Acc: 98.84\n"
          ],
          "name": "stdout"
        }
      ]
    },
    {
      "cell_type": "code",
      "metadata": {
        "id": "9JreCNTula7g"
      },
      "source": [
        "diz_ep = {'train_loss_ep':[],'test_loss_ep':[],'train_acc_ep':[],'test_acc_ep':[]}\n",
        "\n",
        "for i in range(num_epochs):\n",
        "      diz_ep['train_loss_ep'].append(np.mean([foldperf['fold{}'.format(f+1)]['train_loss'][i] for f in range(k)]))\n",
        "      diz_ep['test_loss_ep'].append(np.mean([foldperf['fold{}'.format(f+1)]['test_loss'][i] for f in range(k)]))\n",
        "      diz_ep['train_acc_ep'].append(np.mean([foldperf['fold{}'.format(f+1)]['train_acc'][i] for f in range(k)]))\n",
        "      diz_ep['test_acc_ep'].append(np.mean([foldperf['fold{}'.format(f+1)]['test_acc'][i] for f in range(k)]))"
      ],
      "execution_count": 17,
      "outputs": []
    },
    {
      "cell_type": "code",
      "metadata": {
        "colab": {
          "base_uri": "https://localhost:8080/",
          "height": 513
        },
        "id": "zGTZUbJAldWP",
        "outputId": "e6a6efff-980a-47d3-c8a1-6c858091c9e1"
      },
      "source": [
        "# Plot losses\n",
        "plt.figure(figsize=(10,8))\n",
        "plt.semilogy(diz_ep['train_loss_ep'], label='Train')\n",
        "plt.semilogy(diz_ep['test_loss_ep'], label='Test')\n",
        "plt.xlabel('Epoch')\n",
        "plt.ylabel('Loss')\n",
        "#plt.grid()\n",
        "plt.legend()\n",
        "plt.title('CNN loss')\n",
        "plt.show()"
      ],
      "execution_count": 18,
      "outputs": [
        {
          "output_type": "display_data",
          "data": {
            "image/png": "[encoded data removed]",
            "text/plain": [
              "<Figure size 720x576 with 1 Axes>"
            ]
          },
          "metadata": {
            "tags": [],
            "needs_background": "light"
          }
        }
      ]
    },
    {
      "cell_type": "code",
      "metadata": {
        "colab": {
          "base_uri": "https://localhost:8080/",
          "height": 513
        },
        "id": "deV27BL1lep3",
        "outputId": "0753d459-cafa-4ec5-f100-df860d1a9fd4"
      },
      "source": [
        "# Plot accuracies\n",
        "plt.figure(figsize=(10,8))\n",
        "plt.semilogy(diz_ep['train_acc_ep'], label='Train')\n",
        "plt.semilogy(diz_ep['test_acc_ep'], label='Test')\n",
        "plt.xlabel('Epoch')\n",
        "plt.ylabel('Accuracy')\n",
        "#plt.grid()\n",
        "plt.legend()\n",
        "plt.title('CNN accuracy')\n",
        "plt.show()"
      ],
      "execution_count": 19,
      "outputs": [
        {
          "output_type": "display_data",
          "data": {
            "image/png": "[encoded data removed]",
            "text/plain": [
              "<Figure size 720x576 with 1 Axes>"
            ]
          },
          "metadata": {
            "tags": [],
            "needs_background": "light"
          }
        }
      ]
    }
  ]
}